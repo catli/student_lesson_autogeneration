{
 "cells": [
  {
   "cell_type": "code",
   "execution_count": 6,
   "metadata": {},
   "outputs": [],
   "source": [
    "import os\n",
    "import pandas as pd\n",
    "import numpy as np\n",
    "import matplotlib.pyplot as plt\n",
    "\n"
   ]
  },
  {
   "cell_type": "code",
   "execution_count": 3,
   "metadata": {},
   "outputs": [
    {
     "data": {
      "text/html": [
       "<div>\n",
       "<style scoped>\n",
       "    .dataframe tbody tr th:only-of-type {\n",
       "        vertical-align: middle;\n",
       "    }\n",
       "\n",
       "    .dataframe tbody tr th {\n",
       "        vertical-align: top;\n",
       "    }\n",
       "\n",
       "    .dataframe thead th {\n",
       "        text-align: right;\n",
       "    }\n",
       "</style>\n",
       "<table border=\"1\" class=\"dataframe\">\n",
       "  <thead>\n",
       "    <tr style=\"text-align: right;\">\n",
       "      <th></th>\n",
       "      <th>sha_id</th>\n",
       "      <th>num_sessions</th>\n",
       "      <th>num_content</th>\n",
       "      <th>max_session_content</th>\n",
       "      <th>perc_correct</th>\n",
       "      <th>avg_attempts</th>\n",
       "      <th>avg_hints</th>\n",
       "      <th>subject_per_session</th>\n",
       "      <th>topic_per_session</th>\n",
       "      <th>perc_practiced</th>\n",
       "      <th>perc_mastery1</th>\n",
       "      <th>perc_mastery2</th>\n",
       "      <th>perc_mastery3</th>\n",
       "    </tr>\n",
       "  </thead>\n",
       "  <tbody>\n",
       "    <tr>\n",
       "      <th>0</th>\n",
       "      <td>ouft54/b/WRMf1ZeCmnpu30VF0rzfbzC87/yVP802Hw=</td>\n",
       "      <td>1</td>\n",
       "      <td>30</td>\n",
       "      <td>30</td>\n",
       "      <td>0.900000</td>\n",
       "      <td>1.166667</td>\n",
       "      <td>0.000000</td>\n",
       "      <td>15.000000</td>\n",
       "      <td>2.0</td>\n",
       "      <td>1.000000</td>\n",
       "      <td>0.000000</td>\n",
       "      <td>0.0</td>\n",
       "      <td>0.000000</td>\n",
       "    </tr>\n",
       "    <tr>\n",
       "      <th>1</th>\n",
       "      <td>mo40SVoBbMR4bUxHf0StvPpq34J5XMzsw64DCj/PDHg=</td>\n",
       "      <td>1</td>\n",
       "      <td>16</td>\n",
       "      <td>16</td>\n",
       "      <td>0.937500</td>\n",
       "      <td>1.125000</td>\n",
       "      <td>0.000000</td>\n",
       "      <td>14.000000</td>\n",
       "      <td>15.0</td>\n",
       "      <td>1.000000</td>\n",
       "      <td>0.000000</td>\n",
       "      <td>0.0</td>\n",
       "      <td>1.000000</td>\n",
       "    </tr>\n",
       "    <tr>\n",
       "      <th>2</th>\n",
       "      <td>n2CkrVN5sQT2YPvQoQMHvSxnSVOIT9W6IP2t7GVhvLg=</td>\n",
       "      <td>1</td>\n",
       "      <td>16</td>\n",
       "      <td>16</td>\n",
       "      <td>0.187500</td>\n",
       "      <td>2.812500</td>\n",
       "      <td>33.000000</td>\n",
       "      <td>1.000000</td>\n",
       "      <td>1.0</td>\n",
       "      <td>0.000000</td>\n",
       "      <td>0.000000</td>\n",
       "      <td>0.0</td>\n",
       "      <td>0.000000</td>\n",
       "    </tr>\n",
       "    <tr>\n",
       "      <th>3</th>\n",
       "      <td>qWnFZUqBmgym8VMCtrXlocfTUoPJb8mm/AiSMVeE2UM=</td>\n",
       "      <td>6</td>\n",
       "      <td>179</td>\n",
       "      <td>71</td>\n",
       "      <td>0.810056</td>\n",
       "      <td>1.307263</td>\n",
       "      <td>0.000000</td>\n",
       "      <td>7.666667</td>\n",
       "      <td>16.0</td>\n",
       "      <td>1.000000</td>\n",
       "      <td>0.000000</td>\n",
       "      <td>0.0</td>\n",
       "      <td>0.000000</td>\n",
       "    </tr>\n",
       "    <tr>\n",
       "      <th>4</th>\n",
       "      <td>fmFF1agSHFAQZv2thWhwAXcq/gvgN0VtXjj1FkUZJb4=</td>\n",
       "      <td>13</td>\n",
       "      <td>474</td>\n",
       "      <td>79</td>\n",
       "      <td>0.605485</td>\n",
       "      <td>1.525316</td>\n",
       "      <td>14.307692</td>\n",
       "      <td>7.384615</td>\n",
       "      <td>13.0</td>\n",
       "      <td>0.307692</td>\n",
       "      <td>0.846154</td>\n",
       "      <td>0.0</td>\n",
       "      <td>0.615385</td>\n",
       "    </tr>\n",
       "  </tbody>\n",
       "</table>\n",
       "</div>"
      ],
      "text/plain": [
       "                                         sha_id  num_sessions  num_content  \\\n",
       "0  ouft54/b/WRMf1ZeCmnpu30VF0rzfbzC87/yVP802Hw=             1           30   \n",
       "1  mo40SVoBbMR4bUxHf0StvPpq34J5XMzsw64DCj/PDHg=             1           16   \n",
       "2  n2CkrVN5sQT2YPvQoQMHvSxnSVOIT9W6IP2t7GVhvLg=             1           16   \n",
       "3  qWnFZUqBmgym8VMCtrXlocfTUoPJb8mm/AiSMVeE2UM=             6          179   \n",
       "4  fmFF1agSHFAQZv2thWhwAXcq/gvgN0VtXjj1FkUZJb4=            13          474   \n",
       "\n",
       "   max_session_content  perc_correct  avg_attempts  avg_hints  \\\n",
       "0                   30      0.900000      1.166667   0.000000   \n",
       "1                   16      0.937500      1.125000   0.000000   \n",
       "2                   16      0.187500      2.812500  33.000000   \n",
       "3                   71      0.810056      1.307263   0.000000   \n",
       "4                   79      0.605485      1.525316  14.307692   \n",
       "\n",
       "   subject_per_session  topic_per_session  perc_practiced  perc_mastery1  \\\n",
       "0            15.000000                2.0        1.000000       0.000000   \n",
       "1            14.000000               15.0        1.000000       0.000000   \n",
       "2             1.000000                1.0        0.000000       0.000000   \n",
       "3             7.666667               16.0        1.000000       0.000000   \n",
       "4             7.384615               13.0        0.307692       0.846154   \n",
       "\n",
       "   perc_mastery2  perc_mastery3  \n",
       "0            0.0       0.000000  \n",
       "1            0.0       1.000000  \n",
       "2            0.0       0.000000  \n",
       "3            0.0       0.000000  \n",
       "4            0.0       0.615385  "
      ]
     },
     "execution_count": 3,
     "metadata": {},
     "output_type": "execute_result"
    }
   ],
   "source": [
    "read_path = os.path.expanduser( '~/sorted_data/summarize_khan_data_bylearner.csv')\n",
    "data = pd.read_csv(read_path)\n",
    "\n",
    "data.head()"
   ]
  },
  {
   "cell_type": "code",
   "execution_count": 48,
   "metadata": {},
   "outputs": [],
   "source": [
    "# function for plot \n",
    "def return_perc(plot_variable, cutpoint):\n",
    "    perc = np.round(sum(plot_variable<=cutpoint)*100/len(plot_variable), decimals = 0)\n",
    "    perc_string = '%f percent with likelihood under %f' % (perc, cutpoint)\n",
    "    return perc_string\n",
    "    \n",
    "def plot_histogram(plot_variable, title, maxval=100, num_bins=100):\n",
    "    # plot histogram\n",
    "    # norm_fit = stats.norm.pdf( \n",
    "    # plot_variable, np.mean(plot_variable), np.std(plot_variable)) \n",
    "    # plt.plot(plot_variable, norm_fit,'.', color = 'black')\n",
    "    # weights = np.ones_like(plot_variable)/float(len(plot_variable))\n",
    "    plt.title(title)\n",
    "    plt.hist(plot_variable,   bins = num_bins)\n",
    "    plt.xlim(xmin = 0, xmax=maxval)\n",
    "    plt.show()\n",
    "    val0 =0.1\n",
    "    val1 = 1\n",
    "    val2 = round(maxval/2,2)\n",
    "    val3 = maxval\n",
    "    val4 = maxval*2\n",
    "    # label probabiity\n",
    "    print( return_perc(plot_variable, val0))\n",
    "    print( return_perc(plot_variable, val1))\n",
    "    print( return_perc(plot_variable, val2))\n",
    "    print( return_perc(plot_variable, val3))\n",
    "    print( return_perc(plot_variable, val4))\n",
    "    \n",
    "\n"
   ]
  },
  {
   "cell_type": "code",
   "execution_count": 60,
   "metadata": {},
   "outputs": [
    {
     "data": {
      "image/png": "[encoded data removed]",
      "text/plain": [
       "<Figure size 432x288 with 1 Axes>"
      ]
     },
     "metadata": {
      "needs_background": "light"
     },
     "output_type": "display_data"
    },
    {
     "name": "stdout",
     "output_type": "stream",
     "text": [
      "0.000000 percent with likelihood under 0.100000\n",
      "51.000000 percent with likelihood under 1.000000\n",
      "65.000000 percent with likelihood under 2.000000\n",
      "78.000000 percent with likelihood under 4.000000\n",
      "89.000000 percent with likelihood under 8.000000\n"
     ]
    },
    {
     "data": {
      "image/png": "[encoded data removed]",
      "text/plain": [
       "<Figure size 432x288 with 1 Axes>"
      ]
     },
     "metadata": {
      "needs_background": "light"
     },
     "output_type": "display_data"
    },
    {
     "name": "stdout",
     "output_type": "stream",
     "text": [
      "0.000000 percent with likelihood under 0.100000\n",
      "0.000000 percent with likelihood under 1.000000\n",
      "73.000000 percent with likelihood under 100.000000\n",
      "85.000000 percent with likelihood under 200.000000\n",
      "93.000000 percent with likelihood under 400.000000\n"
     ]
    },
    {
     "data": {
      "image/png": "[encoded data removed]",
      "text/plain": [
       "<Figure size 432x288 with 1 Axes>"
      ]
     },
     "metadata": {
      "needs_background": "light"
     },
     "output_type": "display_data"
    },
    {
     "name": "stdout",
     "output_type": "stream",
     "text": [
      "0.000000 percent with likelihood under 0.100000\n",
      "0.000000 percent with likelihood under 1.000000\n",
      "74.000000 percent with likelihood under 50.000000\n",
      "92.000000 percent with likelihood under 100.000000\n",
      "98.000000 percent with likelihood under 200.000000\n"
     ]
    },
    {
     "data": {
      "image/png": "[encoded data removed]",
      "text/plain": [
       "<Figure size 432x288 with 1 Axes>"
      ]
     },
     "metadata": {
      "needs_background": "light"
     },
     "output_type": "display_data"
    },
    {
     "name": "stdout",
     "output_type": "stream",
     "text": [
      "0.000000 percent with likelihood under 0.100000\n",
      "100.000000 percent with likelihood under 1.000000\n",
      "3.000000 percent with likelihood under 0.250000\n",
      "17.000000 percent with likelihood under 0.500000\n",
      "100.000000 percent with likelihood under 1.000000\n"
     ]
    },
    {
     "data": {
      "image/png": "[encoded data removed]",
      "text/plain": [
       "<Figure size 432x288 with 1 Axes>"
      ]
     },
     "metadata": {
      "needs_background": "light"
     },
     "output_type": "display_data"
    },
    {
     "name": "stdout",
     "output_type": "stream",
     "text": [
      "35.000000 percent with likelihood under 0.100000\n",
      "43.000000 percent with likelihood under 1.000000\n",
      "80.000000 percent with likelihood under 10.000000\n",
      "92.000000 percent with likelihood under 20.000000\n",
      "98.000000 percent with likelihood under 40.000000\n"
     ]
    },
    {
     "data": {
      "image/png": "[encoded data removed]",
      "text/plain": [
       "<Figure size 432x288 with 1 Axes>"
      ]
     },
     "metadata": {
      "needs_background": "light"
     },
     "output_type": "display_data"
    },
    {
     "name": "stdout",
     "output_type": "stream",
     "text": [
      "0.000000 percent with likelihood under 0.100000\n",
      "9.000000 percent with likelihood under 1.000000\n",
      "26.000000 percent with likelihood under 5.000000\n",
      "40.000000 percent with likelihood under 10.000000\n",
      "99.000000 percent with likelihood under 20.000000\n"
     ]
    },
    {
     "data": {
      "image/png": "[encoded data removed]",
      "text/plain": [
       "<Figure size 432x288 with 1 Axes>"
      ]
     },
     "metadata": {
      "needs_background": "light"
     },
     "output_type": "display_data"
    },
    {
     "name": "stdout",
     "output_type": "stream",
     "text": [
      "0.000000 percent with likelihood under 0.100000\n",
      "9.000000 percent with likelihood under 1.000000\n",
      "29.000000 percent with likelihood under 5.000000\n",
      "71.000000 percent with likelihood under 10.000000\n",
      "100.000000 percent with likelihood under 20.000000\n"
     ]
    }
   ],
   "source": [
    "plot_histogram(data['num_sessions'], title = 'distribution of session', maxval=4, num_bins=1000)\n",
    "plot_histogram(data['num_content'], title = 'distribution of content number', maxval=200, num_bins=2000)\n",
    "\n",
    "plot_histogram(data['max_session_content'], title = 'distribution of max content per session', maxval=100, num_bins=1000)\n",
    "plot_histogram(data['perc_correct'], title = 'distribution of per correct', maxval=0.5, num_bins=100)\n",
    "plot_histogram(data['avg_hints'], title = 'avg_hints', maxval=20, num_bins=1000)\n",
    "plot_histogram(data['topic_per_session'], title = 'topics_per_sessions', maxval=10, num_bins=100)\n",
    "plot_histogram(data['subject_per_session'], title = 'subject_per_session', maxval=10, num_bins=100)\n"
   ]
  }
 ],
 "metadata": {
  "kernelspec": {
   "display_name": "Python 3",
   "language": "python",
   "name": "python3"
  },
  "language_info": {
   "codemirror_mode": {
    "name": "ipython",
    "version": 3
   },
   "file_extension": ".py",
   "mimetype": "text/x-python",
   "name": "python",
   "nbconvert_exporter": "python",
   "pygments_lexer": "ipython3",
   "version": "3.4.3"
  }
 },
 "nbformat": 4,
 "nbformat_minor": 2
}
